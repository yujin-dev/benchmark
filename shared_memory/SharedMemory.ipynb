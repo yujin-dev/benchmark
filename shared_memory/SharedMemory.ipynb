{
 "cells": [
  {
   "cell_type": "markdown",
   "id": "charming-trail",
   "metadata": {},
   "source": [
    "### SharedMemory"
   ]
  },
  {
   "cell_type": "code",
   "execution_count": 63,
   "id": "rough-soccer",
   "metadata": {},
   "outputs": [
    {
     "data": {
      "text/plain": [
       "memoryview"
      ]
     },
     "execution_count": 63,
     "metadata": {},
     "output_type": "execute_result"
    }
   ],
   "source": [
    "from multiprocessing import shared_memory\n",
    "shm_a = shared_memory.SharedMemory(create=True, size=10, name = \"A\")\n",
    "type(shm_a.buf)"
   ]
  },
  {
   "cell_type": "code",
   "execution_count": 3,
   "id": "sticky-heaven",
   "metadata": {},
   "outputs": [
    {
     "data": {
      "text/plain": [
       "10"
      ]
     },
     "execution_count": 3,
     "metadata": {},
     "output_type": "execute_result"
    }
   ],
   "source": [
    "buffer = shm_a.buf\n",
    "len(buffer)"
   ]
  },
  {
   "cell_type": "code",
   "execution_count": 4,
   "id": "expressed-conjunction",
   "metadata": {},
   "outputs": [
    {
     "data": {
      "text/plain": [
       "<memory at 0x7f89247a6e80>"
      ]
     },
     "execution_count": 4,
     "metadata": {},
     "output_type": "execute_result"
    }
   ],
   "source": [
    "# byte 수정\n",
    "buffer[:4] = bytearray([22, 33, 44, 55])\n",
    "buffer[4] = 100\n",
    "buffer"
   ]
  },
  {
   "cell_type": "code",
   "execution_count": 75,
   "id": "desperate-computer",
   "metadata": {},
   "outputs": [
    {
     "data": {
      "text/plain": [
       "<memory at 0x7f88cc0c11c0>"
      ]
     },
     "execution_count": 75,
     "metadata": {},
     "output_type": "execute_result"
    }
   ],
   "source": [
    "shm_b = shared_memory.SharedMemory(name=\"A\")\n",
    "buf_b = shm_b.buf"
   ]
  },
  {
   "cell_type": "code",
   "execution_count": 62,
   "id": "annual-terry",
   "metadata": {},
   "outputs": [
    {
     "ename": "FileNotFoundError",
     "evalue": "[Errno 2] No such file or directory: '/psm_30e969e4'",
     "output_type": "error",
     "traceback": [
      "\u001b[0;31m---------------------------------------------------------------------------\u001b[0m",
      "\u001b[0;31mFileNotFoundError\u001b[0m                         Traceback (most recent call last)",
      "\u001b[0;32m<ipython-input-62-a84d8116bba1>\u001b[0m in \u001b[0;36m<module>\u001b[0;34m\u001b[0m\n\u001b[1;32m      1\u001b[0m \u001b[0;31m# 1. ShareMemroy 공간 할당\u001b[0m\u001b[0;34m\u001b[0m\u001b[0;34m\u001b[0m\u001b[0;34m\u001b[0m\u001b[0m\n\u001b[0;32m----> 2\u001b[0;31m \u001b[0mshm_b\u001b[0m \u001b[0;34m=\u001b[0m \u001b[0mshared_memory\u001b[0m\u001b[0;34m.\u001b[0m\u001b[0mSharedMemory\u001b[0m\u001b[0;34m(\u001b[0m\u001b[0mshm_a\u001b[0m\u001b[0;34m.\u001b[0m\u001b[0mname\u001b[0m\u001b[0;34m)\u001b[0m\u001b[0;34m\u001b[0m\u001b[0;34m\u001b[0m\u001b[0m\n\u001b[0m\u001b[1;32m      3\u001b[0m \u001b[0;32mimport\u001b[0m \u001b[0marray\u001b[0m\u001b[0;34m\u001b[0m\u001b[0;34m\u001b[0m\u001b[0m\n\u001b[1;32m      4\u001b[0m \u001b[0marray\u001b[0m\u001b[0;34m.\u001b[0m\u001b[0marray\u001b[0m\u001b[0;34m(\u001b[0m\u001b[0;34m'b'\u001b[0m\u001b[0;34m,\u001b[0m \u001b[0mshm_b\u001b[0m\u001b[0;34m.\u001b[0m\u001b[0mbuf\u001b[0m\u001b[0;34m[\u001b[0m\u001b[0;34m:\u001b[0m\u001b[0;36m5\u001b[0m\u001b[0;34m]\u001b[0m\u001b[0;34m)\u001b[0m\u001b[0;34m\u001b[0m\u001b[0;34m\u001b[0m\u001b[0m\n\u001b[1;32m      5\u001b[0m \u001b[0mshm_b\u001b[0m\u001b[0;34m.\u001b[0m\u001b[0mbuf\u001b[0m\u001b[0;34m[\u001b[0m\u001b[0;34m:\u001b[0m\u001b[0;36m5\u001b[0m\u001b[0;34m]\u001b[0m \u001b[0;34m=\u001b[0m \u001b[0;34mb'howdy'\u001b[0m\u001b[0;34m\u001b[0m\u001b[0;34m\u001b[0m\u001b[0m\n",
      "\u001b[0;32m/usr/lib/python3.8/multiprocessing/shared_memory.py\u001b[0m in \u001b[0;36m__init__\u001b[0;34m(self, name, create, size)\u001b[0m\n\u001b[1;32m     98\u001b[0m             \u001b[0;32melse\u001b[0m\u001b[0;34m:\u001b[0m\u001b[0;34m\u001b[0m\u001b[0;34m\u001b[0m\u001b[0m\n\u001b[1;32m     99\u001b[0m                 \u001b[0mname\u001b[0m \u001b[0;34m=\u001b[0m \u001b[0;34m\"/\"\u001b[0m \u001b[0;34m+\u001b[0m \u001b[0mname\u001b[0m \u001b[0;32mif\u001b[0m \u001b[0mself\u001b[0m\u001b[0;34m.\u001b[0m\u001b[0m_prepend_leading_slash\u001b[0m \u001b[0;32melse\u001b[0m \u001b[0mname\u001b[0m\u001b[0;34m\u001b[0m\u001b[0;34m\u001b[0m\u001b[0m\n\u001b[0;32m--> 100\u001b[0;31m                 self._fd = _posixshmem.shm_open(\n\u001b[0m\u001b[1;32m    101\u001b[0m                     \u001b[0mname\u001b[0m\u001b[0;34m,\u001b[0m\u001b[0;34m\u001b[0m\u001b[0;34m\u001b[0m\u001b[0m\n\u001b[1;32m    102\u001b[0m                     \u001b[0mself\u001b[0m\u001b[0;34m.\u001b[0m\u001b[0m_flags\u001b[0m\u001b[0;34m,\u001b[0m\u001b[0;34m\u001b[0m\u001b[0;34m\u001b[0m\u001b[0m\n",
      "\u001b[0;31mFileNotFoundError\u001b[0m: [Errno 2] No such file or directory: '/psm_30e969e4'"
     ]
    }
   ],
   "source": [
    "import array\n",
    "array.array('b', shm_b.buf[:5])\n",
    "shm_b.buf[:5] = b'howdy'\n",
    "bytes(shm_b.buf[:5])"
   ]
  },
  {
   "cell_type": "code",
   "execution_count": 50,
   "id": "virtual-dialogue",
   "metadata": {},
   "outputs": [],
   "source": [
    "# 메모리 해제\n",
    "shm_b.close()\n",
    "shm_a.close()\n",
    "# shm_b.unlink() # 없으면 오류남\n",
    "# shm_a.unlink()"
   ]
  },
  {
   "cell_type": "code",
   "execution_count": 15,
   "id": "unlike-booking",
   "metadata": {},
   "outputs": [],
   "source": [
    "import numpy as np\n",
    "from multiprocessing.shared_memory import SharedMemory"
   ]
  },
  {
   "cell_type": "code",
   "execution_count": 58,
   "id": "legitimate-conditions",
   "metadata": {},
   "outputs": [
    {
     "data": {
      "text/plain": [
       "array([1, 2, 3, 4, 5, 6])"
      ]
     },
     "execution_count": 58,
     "metadata": {},
     "output_type": "execute_result"
    }
   ],
   "source": [
    "a = np.array([1,2,3,4,5,6])\n",
    "shm = SharedMemory(create=True, size=a.nbytes)\n",
    "b = np.ndarray(a.shape, dtype=a.dtype, buffer=shm.buf)\n",
    "b[:] = a[:] # shallow copy\n",
    "b"
   ]
  },
  {
   "cell_type": "code",
   "execution_count": 18,
   "id": "powerful-bearing",
   "metadata": {},
   "outputs": [
    {
     "name": "stdout",
     "output_type": "stream",
     "text": [
      "b type :  <class 'numpy.ndarray'>\n",
      "a type :  <class 'numpy.ndarray'>\n"
     ]
    }
   ],
   "source": [
    "print(\"b type : \", type(b))\n",
    "print(\"a type : \", type(a))"
   ]
  },
  {
   "cell_type": "code",
   "execution_count": 19,
   "id": "boxed-transparency",
   "metadata": {},
   "outputs": [
    {
     "data": {
      "text/plain": [
       "'psm_c6ab22e3'"
      ]
     },
     "execution_count": 19,
     "metadata": {},
     "output_type": "execute_result"
    }
   ],
   "source": [
    "shm.name # key를 잉의로 지정함"
   ]
  },
  {
   "cell_type": "markdown",
   "id": "technological-tuition",
   "metadata": {},
   "source": [
    "Sharememory에 접근해서 데이터 수정"
   ]
  },
  {
   "cell_type": "code",
   "execution_count": 61,
   "id": "solved-greensboro",
   "metadata": {},
   "outputs": [
    {
     "name": "stdout",
     "output_type": "stream",
     "text": [
      "<class 'memoryview'>\n"
     ]
    },
    {
     "data": {
      "text/plain": [
       "array([1, 2, 3, 4, 5, 6])"
      ]
     },
     "execution_count": 61,
     "metadata": {},
     "output_type": "execute_result"
    }
   ],
   "source": [
    "connect_shm = SharedMemory(name=shm.name) # 기존 공유 메모리에 연결\n",
    "c = np.ndarray((6, ), dtype=np.int64, buffer=connect_shm.buf) # connect_shm.buf 사이즈를 넘으면 오류남\n",
    "c"
   ]
  },
  {
   "cell_type": "code",
   "execution_count": 30,
   "id": "lesbian-redhead",
   "metadata": {},
   "outputs": [
    {
     "data": {
      "text/plain": [
       "array([  1,   2,   3,   4,   5, 888])"
      ]
     },
     "execution_count": 30,
     "metadata": {},
     "output_type": "execute_result"
    }
   ],
   "source": [
    "c[-1] = 888\n",
    "c"
   ]
  },
  {
   "cell_type": "code",
   "execution_count": 31,
   "id": "diagnostic-spouse",
   "metadata": {},
   "outputs": [
    {
     "data": {
      "text/plain": [
       "array([  1,   2,   3,   4,   5, 888])"
      ]
     },
     "execution_count": 31,
     "metadata": {},
     "output_type": "execute_result"
    }
   ],
   "source": [
    "b"
   ]
  },
  {
   "cell_type": "code",
   "execution_count": 32,
   "id": "essential-physiology",
   "metadata": {},
   "outputs": [
    {
     "data": {
      "text/plain": [
       "array([1, 2, 3, 4, 5, 6])"
      ]
     },
     "execution_count": 32,
     "metadata": {},
     "output_type": "execute_result"
    }
   ],
   "source": [
    "a"
   ]
  },
  {
   "cell_type": "code",
   "execution_count": 52,
   "id": "important-handle",
   "metadata": {},
   "outputs": [],
   "source": [
    "# close\n",
    "connect_shm.close()\n",
    "shm.close()\n",
    "# shm.unlink()"
   ]
  },
  {
   "cell_type": "markdown",
   "id": "communist-nancy",
   "metadata": {},
   "source": [
    "### SharedMemoryManager\n",
    "가변 데이터"
   ]
  },
  {
   "cell_type": "code",
   "execution_count": 34,
   "id": "numerical-overall",
   "metadata": {},
   "outputs": [],
   "source": [
    "from multiprocessing.managers import SharedMemoryManager\n",
    "smm = SharedMemoryManager()\n",
    "# 공유 메모리 블럭을 관리하는 프로세스 시작\n",
    "smm.start()"
   ]
  },
  {
   "cell_type": "code",
   "execution_count": 35,
   "id": "bored-passport",
   "metadata": {},
   "outputs": [
    {
     "data": {
      "text/plain": [
       "ShareableList([0, 1, 2, 3], name='psm_b7225c67')"
      ]
     },
     "execution_count": 35,
     "metadata": {},
     "output_type": "execute_result"
    }
   ],
   "source": [
    "sl = smm.ShareableList(range(4))\n",
    "sl"
   ]
  },
  {
   "cell_type": "code",
   "execution_count": 36,
   "id": "academic-brown",
   "metadata": {},
   "outputs": [
    {
     "data": {
      "text/plain": [
       "ShareableList(['a', 'l', 'p', 'h', 'a'], name='psm_80076d1f')"
      ]
     },
     "execution_count": 36,
     "metadata": {},
     "output_type": "execute_result"
    }
   ],
   "source": [
    "raw_shm = smm.SharedMemory(size=128)\n",
    "another_sl = smm.ShareableList('alpha')\n",
    "another_sl"
   ]
  },
  {
   "cell_type": "markdown",
   "id": "preliminary-calcium",
   "metadata": {},
   "source": [
    "출처: https://daphne-dev.github.io/2020/09/19/python-multiproccessing/"
   ]
  },
  {
   "cell_type": "markdown",
   "id": "tight-memphis",
   "metadata": {},
   "source": [
    "### Queue"
   ]
  },
  {
   "cell_type": "code",
   "execution_count": 37,
   "id": "split-hampton",
   "metadata": {},
   "outputs": [],
   "source": [
    "from multiprocessing import Process, Queue\n",
    "import time"
   ]
  },
  {
   "cell_type": "code",
   "execution_count": 54,
   "id": "competent-belief",
   "metadata": {},
   "outputs": [],
   "source": [
    "def worker(id, number, q):\n",
    "    increased_number = 0\n",
    "    for _ in range(number):\n",
    "        increased_number += 1\n",
    "    q.put(increased_number)\n",
    "    return "
   ]
  },
  {
   "cell_type": "code",
   "execution_count": 55,
   "id": "swedish-latin",
   "metadata": {},
   "outputs": [
    {
     "name": "stdout",
     "output_type": "stream",
     "text": [
      "21.592480421066284\n",
      "1000000000\n"
     ]
    }
   ],
   "source": [
    "start = time.time()\n",
    "q = Queue()\n",
    "processes= []\n",
    "processes.append(Process(target=worker, args=(1, 50000000, q)))\n",
    "processes.append(Process(target=worker, args=(2, 50000000, q)))\n",
    "[p.start() for p in processes]\n",
    "[p.join() for p in processes]\n",
    "\n",
    "q.put(\"EXIT\")\n",
    "total = 0\n",
    "while True:\n",
    "    tmp = q.get()\n",
    "    if tmp == \"EXIT\":\n",
    "        break\n",
    "    else:\n",
    "        total += tmp\n",
    "print(time.time()-start)\n",
    "print(total)"
   ]
  },
  {
   "cell_type": "markdown",
   "id": "technological-mathematics",
   "metadata": {},
   "source": [
    "### Semaphore"
   ]
  },
  {
   "cell_type": "code",
   "execution_count": 8,
   "id": "breathing-street",
   "metadata": {},
   "outputs": [],
   "source": [
    "from multiprocessing import shared_memory, Semaphore, Process\n",
    "import time\n",
    "import numpy  as np\n",
    "\n",
    "def worker(id, number, shm, arr, sem):\n",
    "    increased_number = 0\n",
    "    for _ in range(number):\n",
    "        increased_number += 1\n",
    "    sem.acquire() # 세마포어 획득\n",
    "    new_shm = shared_memory.SharedMemory(name=shm) # 공유 메모리 가져옴\n",
    "    tmp_arr = np.ndarray(arr.shape, dtype=arr.dtype, buffer=new_shm.buf)\n",
    "    print(tmp_arr)\n",
    "    tmp_arr[0] += increased_number\n",
    "    sem.release()"
   ]
  },
  {
   "cell_type": "code",
   "execution_count": 9,
   "id": "cellular-kitty",
   "metadata": {},
   "outputs": [
    {
     "name": "stdout",
     "output_type": "stream",
     "text": [
      "[0]\n",
      "[50000000]\n",
      "[100000000]\n",
      "2.3690385818481445\n",
      "[150000000] 150000000\n"
     ]
    }
   ],
   "source": [
    "start = time.time()\n",
    "\n",
    "arr = np.array([0])\n",
    "shm = shared_memory.SharedMemory(create=True, size=arr.nbytes)\n",
    "np_shm = np.ndarray(arr.shape, dtype=arr.dtype, buffer=shm.buf)\n",
    "sem = Semaphore()\n",
    "\n",
    "processes= []\n",
    "processes.append(Process(target=worker, args=(1, 50000000, shm.name, np_shm, sem)))\n",
    "processes.append(Process(target=worker, args=(2, 50000000, shm.name, np_shm, sem)))\n",
    "processes.append(Process(target=worker, args=(3, 50000000, shm.name, np_shm, sem)))\n",
    "\n",
    "[p.start() for p in processes]\n",
    "[p.join() for p in processes]\n",
    "\n",
    "print(time.time()-start)\n",
    "print(np_shm, np_shm[0])\n",
    "shm.close() # 공유 메모리 사용 종료\n",
    "shm.unlink() # 공유 메모리 블럭 삭제"
   ]
  },
  {
   "cell_type": "code",
   "execution_count": 24,
   "id": "bigger-column",
   "metadata": {},
   "outputs": [],
   "source": [
    "from multiprocessing import shared_memory, Semaphore, Process\n",
    "import time\n",
    "import numpy  as np\n",
    "\n",
    "def put(name, data):\n",
    "    conn_sm = shared_memory.SharedMemory(name=name)\n",
    "    new_arr = np.ndarray(data.shape, dtype=data.dtype, buffer=conn_sm.buf)\n",
    "    new_arr[:] = data[:] # copy\n",
    "    print(new_arr)\n",
    "\n",
    "def test(id, shm, arr, sem):\n",
    "\n",
    "    new_shm = shared_memory.SharedMemory(name=shm) # 공유 메모리 가져옴\n",
    "    tmp_arr = np.ndarray(arr.shape, dtype=arr.dtype, buffer=new_shm.buf)\n",
    "    print(f\"{id}: Data >>>>>>>>>>>>>>>>>>>> \", tmp_arr)\n"
   ]
  },
  {
   "cell_type": "code",
   "execution_count": 30,
   "id": "sustained-lobby",
   "metadata": {},
   "outputs": [
    {
     "name": "stdout",
     "output_type": "stream",
     "text": [
      "[6 5 4 3 2]\n",
      "1: Data >>>>>>>>>>>>>>>>>>>>  2: Data >>>>>>>>>>>>>>>>>>>> [6 5 4 3 2] \n",
      "[6 5 4 3 2]\n",
      "3: Data >>>>>>>>>>>>>>>>>>>>  [6 5 4 3 2]\n"
     ]
    },
    {
     "data": {
      "text/plain": [
       "[None, None, None]"
      ]
     },
     "execution_count": 30,
     "metadata": {},
     "output_type": "execute_result"
    }
   ],
   "source": [
    "arr = np.array([1,2,3,4,5])\n",
    "sm = shared_memory.SharedMemory(create=True, size=arr.nbytes, name=\"sample\")\n",
    "put(\"sample\", np.array([6,5,4,3,2]))\n",
    "\n",
    "sem = Semaphore()\n",
    "\n",
    "processes= []\n",
    "processes.append(Process(target=test, args=(1, \"sample\", np_arr, sem)))\n",
    "processes.append(Process(target=test, args=(2, \"sample\", np_arr, sem)))\n",
    "processes.append(Process(target=test, args=(3, \"sample\", np_arr, sem)))\n",
    "\n",
    "[p.start() for p in processes]\n",
    "[p.join() for p in processes]\n"
   ]
  },
  {
   "cell_type": "code",
   "execution_count": 36,
   "id": "environmental-speech",
   "metadata": {},
   "outputs": [],
   "source": [
    "sm.close()\n",
    "sm.unlink()"
   ]
  },
  {
   "cell_type": "code",
   "execution_count": 105,
   "id": "automatic-tuner",
   "metadata": {},
   "outputs": [],
   "source": [
    "# create SM and copy array\n",
    "arr = np.array([1,2,3,4,5])\n",
    "sm = shared_memory.SharedMemory(create=True, size=arr.nbytes, name=\"sample\")\n",
    "np.ndarray(arr.shape, dtype=arr.dtype, buffer=sm.buf)[:] = arr[:]\n",
    "shape, dtype = arr.shape, arr.dtype"
   ]
  },
  {
   "cell_type": "code",
   "execution_count": 102,
   "id": "polyphonic-identity",
   "metadata": {},
   "outputs": [
    {
     "name": "stdout",
     "output_type": "stream",
     "text": [
      "[1 2 3 4 5]\n"
     ]
    }
   ],
   "source": [
    "# connect to shared memory\n",
    "conn_sm = shared_memory.SharedMemory(name=\"sample\")\n",
    "print(np.ndarray(shape, dtype=dtype, buffer=conn_sm.buf))"
   ]
  },
  {
   "cell_type": "code",
   "execution_count": 96,
   "id": "incoming-wells",
   "metadata": {},
   "outputs": [],
   "source": [
    "sm.close()\n",
    "sm.unlink()"
   ]
  },
  {
   "cell_type": "code",
   "execution_count": 109,
   "id": "noble-selection",
   "metadata": {},
   "outputs": [
    {
     "ename": "FileNotFoundError",
     "evalue": "[Errno 2] No such file or directory: '/sample'",
     "output_type": "error",
     "traceback": [
      "\u001b[0;31m---------------------------------------------------------------------------\u001b[0m",
      "\u001b[0;31mFileNotFoundError\u001b[0m                         Traceback (most recent call last)",
      "\u001b[0;32m<ipython-input-109-c722ccd626c9>\u001b[0m in \u001b[0;36m<module>\u001b[0;34m\u001b[0m\n\u001b[0;32m----> 1\u001b[0;31m \u001b[0mcheck\u001b[0m \u001b[0;34m=\u001b[0m \u001b[0mshared_memory\u001b[0m\u001b[0;34m.\u001b[0m\u001b[0mSharedMemory\u001b[0m\u001b[0;34m(\u001b[0m\u001b[0mname\u001b[0m\u001b[0;34m=\u001b[0m\u001b[0;34m\"sample\"\u001b[0m\u001b[0;34m)\u001b[0m\u001b[0;34m\u001b[0m\u001b[0;34m\u001b[0m\u001b[0m\n\u001b[0m\u001b[1;32m      2\u001b[0m \u001b[0mcheck\u001b[0m\u001b[0;34m.\u001b[0m\u001b[0mclose\u001b[0m\u001b[0;34m(\u001b[0m\u001b[0;34m)\u001b[0m\u001b[0;34m\u001b[0m\u001b[0;34m\u001b[0m\u001b[0m\n\u001b[1;32m      3\u001b[0m \u001b[0;31m# check.unlink()\u001b[0m\u001b[0;34m\u001b[0m\u001b[0;34m\u001b[0m\u001b[0;34m\u001b[0m\u001b[0m\n\u001b[1;32m      4\u001b[0m \u001b[0;32mtry\u001b[0m\u001b[0;34m:\u001b[0m\u001b[0;34m\u001b[0m\u001b[0;34m\u001b[0m\u001b[0m\n\u001b[1;32m      5\u001b[0m     \u001b[0mshared_memory\u001b[0m\u001b[0;34m.\u001b[0m\u001b[0mSharedMemory\u001b[0m\u001b[0;34m(\u001b[0m\u001b[0mname\u001b[0m\u001b[0;34m=\u001b[0m\u001b[0;34m\"sample\"\u001b[0m\u001b[0;34m)\u001b[0m\u001b[0;34m\u001b[0m\u001b[0;34m\u001b[0m\u001b[0m\n",
      "\u001b[0;32m/usr/lib/python3.8/multiprocessing/shared_memory.py\u001b[0m in \u001b[0;36m__init__\u001b[0;34m(self, name, create, size)\u001b[0m\n\u001b[1;32m     98\u001b[0m             \u001b[0;32melse\u001b[0m\u001b[0;34m:\u001b[0m\u001b[0;34m\u001b[0m\u001b[0;34m\u001b[0m\u001b[0m\n\u001b[1;32m     99\u001b[0m                 \u001b[0mname\u001b[0m \u001b[0;34m=\u001b[0m \u001b[0;34m\"/\"\u001b[0m \u001b[0;34m+\u001b[0m \u001b[0mname\u001b[0m \u001b[0;32mif\u001b[0m \u001b[0mself\u001b[0m\u001b[0;34m.\u001b[0m\u001b[0m_prepend_leading_slash\u001b[0m \u001b[0;32melse\u001b[0m \u001b[0mname\u001b[0m\u001b[0;34m\u001b[0m\u001b[0;34m\u001b[0m\u001b[0m\n\u001b[0;32m--> 100\u001b[0;31m                 self._fd = _posixshmem.shm_open(\n\u001b[0m\u001b[1;32m    101\u001b[0m                     \u001b[0mname\u001b[0m\u001b[0;34m,\u001b[0m\u001b[0;34m\u001b[0m\u001b[0;34m\u001b[0m\u001b[0m\n\u001b[1;32m    102\u001b[0m                     \u001b[0mself\u001b[0m\u001b[0;34m.\u001b[0m\u001b[0m_flags\u001b[0m\u001b[0;34m,\u001b[0m\u001b[0;34m\u001b[0m\u001b[0;34m\u001b[0m\u001b[0m\n",
      "\u001b[0;31mFileNotFoundError\u001b[0m: [Errno 2] No such file or directory: '/sample'"
     ]
    }
   ],
   "source": [
    "check = shared_memory.SharedMemory(name=\"sample\")\n",
    "check.close()\n",
    "# check.unlink()\n",
    "try:\n",
    "    shared_memory.SharedMemory(name=\"sample\")\n",
    "    print(\"sample stil alive\")\n",
    "except:\n",
    "    print(\"sample removed successfully\")"
   ]
  },
  {
   "cell_type": "code",
   "execution_count": null,
   "id": "fluid-limitation",
   "metadata": {},
   "outputs": [],
   "source": []
  }
 ],
 "metadata": {
  "kernelspec": {
   "display_name": "Python 3",
   "language": "python",
   "name": "python3"
  },
  "language_info": {
   "codemirror_mode": {
    "name": "ipython",
    "version": 3
   },
   "file_extension": ".py",
   "mimetype": "text/x-python",
   "name": "python",
   "nbconvert_exporter": "python",
   "pygments_lexer": "ipython3",
   "version": "3.8.5"
  }
 },
 "nbformat": 4,
 "nbformat_minor": 5
}
